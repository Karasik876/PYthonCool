{
  "nbformat": 4,
  "nbformat_minor": 0,
  "metadata": {
    "colab": {
      "provenance": []
    },
    "kernelspec": {
      "display_name": "Python 3",
      "language": "python",
      "name": "python3"
    },
    "language_info": {
      "codemirror_mode": {
        "name": "ipython",
        "version": 3
      },
      "file_extension": ".py",
      "mimetype": "text/x-python",
      "name": "python",
      "nbconvert_exporter": "python",
      "pygments_lexer": "ipython3",
      "version": "3.7.3"
    }
  },
  "cells": [
    {
      "cell_type": "markdown",
      "metadata": {
        "id": "5_eFZpeoK7k2"
      },
      "source": [
        "# Numpy\n",
        "### Если задания покажутся сложными, рекомендую пройти краткий курс по основам numpy [ссылка1](https://stepik.org/lesson/241329/step/1?unit=213910), [ссылка2](https://stepik.org/lesson/16462/step/1?unit=4283)"
      ]
    },
    {
      "cell_type": "code",
      "metadata": {
        "id": "YEJ8DQ4QK7kx"
      },
      "source": [
        "import numpy as np\n",
        "import random\n",
        "import scipy.stats as sps\n",
        "import cv2\n"
      ],
      "execution_count": 1,
      "outputs": []
    },
    {
      "cell_type": "markdown",
      "metadata": {
        "id": "hYXhVX0eK7k2"
      },
      "source": [
        "### Задание 1\n",
        "В первой задаче вам предлагается перемножить две квадратные матрицы двумя способами -- без использования пакета ***numpy*** и с ним."
      ]
    },
    {
      "cell_type": "code",
      "metadata": {
        "id": "zJR8EANzK7k3",
        "colab": {
          "base_uri": "https://localhost:8080/"
        },
        "outputId": "0638a518-4fc5-4bf5-c0d5-c48ca9914443"
      },
      "source": [
        "# Для генерации матриц используем фукнцию random -- она используется для генерации случайных объектов\n",
        "# функция sample создает случайную выборку. В качестве аргумента ей передается кортеж (i,j),\n",
        "# здесь i -- число строк, j -- число столбцов.\n",
        "a = np.random.sample((100, 100))\n",
        "b = np.random.sample((100, 100))\n",
        "# выведите размерность (ранг) каждой матрицы с помощью функции ndim.\n",
        "# Используйте функцию shape, что она вывела?\n",
        "# ========\n",
        "print(\"ранг a =\",a.ndim, \"\\nранг b =\", b.ndim)\n",
        "print(\"размер матрицы a =\",a.shape,\"\\nразмер матрицы b =\",b.shape)\n",
        "# ========\n",
        "print(a)\n",
        "print(b)"
      ],
      "execution_count": null,
      "outputs": [
        {
          "output_type": "stream",
          "name": "stdout",
          "text": [
            "ранг a = 2 \n",
            "ранг b = 2\n",
            "размер матрицы a = (100, 100) \n",
            "размер матрицы b = (100, 100)\n",
            "[[0.72148252 0.49902307 0.20770638 ... 0.33671942 0.95206702 0.74956423]\n",
            " [0.3847105  0.39000667 0.07158308 ... 0.44182065 0.55461692 0.79419047]\n",
            " [0.36977766 0.84522289 0.81375479 ... 0.80019727 0.130253   0.99085645]\n",
            " ...\n",
            " [0.66315786 0.9104901  0.55463796 ... 0.87461817 0.22265493 0.65234536]\n",
            " [0.00410864 0.23633411 0.57259221 ... 0.84618615 0.30014199 0.04427065]\n",
            " [0.45351774 0.98380724 0.3479158  ... 0.40664825 0.67261334 0.42839505]]\n",
            "[[0.46799287 0.84753929 0.34129417 ... 0.18016286 0.00753726 0.18646619]\n",
            " [0.54544347 0.23151092 0.53006635 ... 0.13402511 0.47833718 0.90285323]\n",
            " [0.14104978 0.56869649 0.54596792 ... 0.37600195 0.76603188 0.01219478]\n",
            " ...\n",
            " [0.2945149  0.41465568 0.47280359 ... 0.71805369 0.04970104 0.90218469]\n",
            " [0.71091511 0.71988421 0.09386753 ... 0.17738705 0.17740098 0.22575648]\n",
            " [0.90574853 0.63744821 0.50149732 ... 0.08160222 0.87500279 0.43609434]]\n"
          ]
        }
      ]
    },
    {
      "cell_type": "markdown",
      "source": [
        "Без использования numpy"
      ],
      "metadata": {
        "id": "Ylmyxw_TQN9c"
      }
    },
    {
      "cell_type": "code",
      "metadata": {
        "id": "bkWCI4TPK7k8"
      },
      "source": [
        "def mult(a, b):\n",
        "    rows_a = len(a)\n",
        "    cols_a = len(a[0])\n",
        "    cols_b = len(b[0])\n",
        "\n",
        "    result = [[0 for _ in range(cols_b)] for _ in range(rows_a)]\n",
        "\n",
        "    for i in range(rows_a):\n",
        "        for j in range(cols_b):\n",
        "            for k in range(cols_a):\n",
        "                result[i][j] += a[i][k] * b[k][j]\n",
        "    return result"
      ],
      "execution_count": null,
      "outputs": []
    },
    {
      "cell_type": "markdown",
      "source": [
        "C использованием numpy"
      ],
      "metadata": {
        "id": "J6stNvzmQa61"
      }
    },
    {
      "cell_type": "code",
      "metadata": {
        "id": "IIgYD1W5K7lB"
      },
      "source": [
        "def np_mult(a, b):\n",
        "    return np.matmul(a, b)"
      ],
      "execution_count": null,
      "outputs": []
    },
    {
      "cell_type": "code",
      "metadata": {
        "id": "tktkYzUHK7lE",
        "outputId": "ddf8656f-8b81-491d-87ae-8d31da42f276",
        "colab": {
          "base_uri": "https://localhost:8080/"
        }
      },
      "source": [
        "%%time\n",
        "# засечем время работы функции без NumPy\n",
        "M1 = mult(a, b)"
      ],
      "execution_count": null,
      "outputs": [
        {
          "output_type": "stream",
          "name": "stdout",
          "text": [
            "CPU times: user 704 ms, sys: 0 ns, total: 704 ms\n",
            "Wall time: 710 ms\n"
          ]
        }
      ]
    },
    {
      "cell_type": "code",
      "metadata": {
        "id": "TmD0adgHK7lK",
        "outputId": "ebf1242e-d64c-4882-a247-1e430d1b68cb",
        "colab": {
          "base_uri": "https://localhost:8080/"
        }
      },
      "source": [
        "%%time\n",
        "# засечем время работы функции с NumPy\n",
        "M2 = np_mult(a, b)"
      ],
      "execution_count": null,
      "outputs": [
        {
          "output_type": "stream",
          "name": "stdout",
          "text": [
            "CPU times: user 1.81 ms, sys: 1.05 ms, total: 2.86 ms\n",
            "Wall time: 1.52 ms\n"
          ]
        }
      ]
    },
    {
      "cell_type": "markdown",
      "source": [
        "\n",
        "\n",
        "---\n",
        "\n",
        "\n",
        "Огромная разница времени выполнения - решение с numpy намного быстрее. *(С Numpy 1.5 мс. без Numpy - 710 мс.)*\n",
        "\n",
        "\n",
        "---\n",
        "\n"
      ],
      "metadata": {
        "id": "nBLEjd9s4-At"
      }
    },
    {
      "cell_type": "code",
      "metadata": {
        "id": "oftqyANQK7lS",
        "outputId": "06ac9b30-6d52-4315-84d1-090646665851",
        "colab": {
          "base_uri": "https://localhost:8080/"
        }
      },
      "source": [
        "# проверим корректность\n",
        "np.abs(np.array(M1) - M2).sum()"
      ],
      "execution_count": null,
      "outputs": [
        {
          "output_type": "execute_result",
          "data": {
            "text/plain": [
              "1.5266010677805752e-11"
            ]
          },
          "metadata": {},
          "execution_count": 28
        }
      ]
    },
    {
      "cell_type": "markdown",
      "metadata": {
        "id": "2itTyTlcaHAu"
      },
      "source": [
        "### Задание 2"
      ]
    },
    {
      "cell_type": "markdown",
      "metadata": {
        "id": "BCemQSq-aEbO"
      },
      "source": [
        "Вам подаются на вход два вектора `a` и `b` в трехмерном пространстве. Заполните их случайными числами. Реализуйте их скалярное произведение с помощью  `NumPy` и без. Засеките время работы, как это показано в заданиях выше."
      ]
    },
    {
      "cell_type": "code",
      "metadata": {
        "id": "lWhr_gPSZ9o_",
        "colab": {
          "base_uri": "https://localhost:8080/"
        },
        "outputId": "dc95f886-672f-4cb4-97c2-24c273a3cfae"
      },
      "source": [
        "a = np.random.sample((1, 3))\n",
        "a = list(a)[0]\n",
        "b = np.random.sample((1, 3))\n",
        "b = list(b)[0]\n",
        "print(a, b)"
      ],
      "execution_count": null,
      "outputs": [
        {
          "output_type": "stream",
          "name": "stdout",
          "text": [
            "[0.66553995 0.81307984 0.1899588 ] [0.09681159 0.35949677 0.717094  ]\n"
          ]
        }
      ]
    },
    {
      "cell_type": "code",
      "metadata": {
        "id": "GjlkcHIWZ_ae"
      },
      "source": [
        "def scalar_product(a, b):\n",
        "    # Скалярным произведением двух векторов в трехмерном пространстве называется сумма произведений соответствующих координат векторов\n",
        "    result = 0\n",
        "    for i in range(3):\n",
        "        result += a[i] * b[i]\n",
        "\n",
        "    return result"
      ],
      "execution_count": null,
      "outputs": []
    },
    {
      "cell_type": "code",
      "metadata": {
        "id": "C2M-OAp5Z_6a"
      },
      "source": [
        "def np_scalar_product(a,b):\n",
        "    return np.dot(a, b)"
      ],
      "execution_count": null,
      "outputs": []
    },
    {
      "cell_type": "code",
      "metadata": {
        "id": "BOQfYf-2aCQJ",
        "scrolled": true,
        "outputId": "8da74085-015b-451e-edfa-b43298ef402c",
        "colab": {
          "base_uri": "https://localhost:8080/"
        }
      },
      "source": [
        "%time product_1 = scalar_product(a,b)\n",
        "%time product_2 = np_scalar_product(a,b)\n",
        "# проверим корректность:\n",
        "np.abs(product_1 - product_2).sum()"
      ],
      "execution_count": null,
      "outputs": [
        {
          "output_type": "stream",
          "name": "stdout",
          "text": [
            "CPU times: user 34 µs, sys: 0 ns, total: 34 µs\n",
            "Wall time: 40.1 µs\n",
            "CPU times: user 66 µs, sys: 0 ns, total: 66 µs\n",
            "Wall time: 69.9 µs\n"
          ]
        },
        {
          "output_type": "execute_result",
          "data": {
            "text/plain": [
              "0.0"
            ]
          },
          "metadata": {},
          "execution_count": 33
        }
      ]
    },
    {
      "cell_type": "markdown",
      "metadata": {
        "id": "NHaHu6q1K7mH"
      },
      "source": [
        "Почему методы ***numpy*** оказываются эффективнее? Что вы можете сказать о скорости вычислений в NumPy?"
      ]
    },
    {
      "cell_type": "markdown",
      "metadata": {
        "id": "_A3p2s4eK7mI"
      },
      "source": [
        "**Ответ:** Методы NumPy оказываются эффективнее, потому что они реализуются на низкоуровневых языках (**C, Fortran**). Кроме того, методы NumPy тщательно оптимизированы. Например, в документации к методу numpy.matmul написано:\n",
        "\n",
        "> *It uses an optimized BLAS library when possible*\n",
        "\n",
        "На сайте **superfastpython.com** про BLAS написано следующее:\n",
        "\n",
        "> NumPy использует библиотеки BLAS и LAPACK для эффективного выполнения функций линейной алгебры с векторами и матрицами, что позволяет NumPy наилучшим образом использовать доступное системное оборудование.Современные реализации библиотеки BLAS, такие как OpenBLAS, позволяют NumPy эффективно и без проблем выполнять векторные и матричные операции, используя несколько процессорных ядер и наборы команд для конкретного процессора\n",
        "\n",
        "\n"
      ]
    },
    {
      "cell_type": "markdown",
      "metadata": {
        "id": "StLAtJ-tQlfR"
      },
      "source": [
        "------------------"
      ]
    },
    {
      "cell_type": "markdown",
      "metadata": {
        "id": "mJXeUuznK7lm"
      },
      "source": [
        "### Задание 3\n",
        "Напишите функцию, которая находим сумму четных диагональныех элементов квадратной матрицы. Если таких элементов нет, то вывести `0`."
      ]
    },
    {
      "cell_type": "code",
      "metadata": {
        "id": "MjxKxv-bQlfW"
      },
      "source": [
        "# функция, решающая задачу с помощью NumPy\n",
        "def np_diag_2k(a):\n",
        "    diag_elems = np.diagonal(a)\n",
        "    even_diag = [i for i in diag_elems if i%2==0]\n",
        "\n",
        "    if len(even_diag)>0:\n",
        "        return np.sum(even_diag)\n",
        "    else:\n",
        "        return 0"
      ],
      "execution_count": null,
      "outputs": []
    },
    {
      "cell_type": "code",
      "metadata": {
        "id": "h_oazhcNQlfZ",
        "colab": {
          "base_uri": "https://localhost:8080/"
        },
        "outputId": "e2f59709-8266-450b-f12b-d4f9cb9933a6"
      },
      "source": [
        "# зададим некоторую квадратную матрицу\n",
        "a = np.random.randint(1, 10, size=(5, 5))\n",
        "a"
      ],
      "execution_count": null,
      "outputs": [
        {
          "output_type": "execute_result",
          "data": {
            "text/plain": [
              "array([[7, 1, 4, 9, 7],\n",
              "       [8, 8, 9, 6, 1],\n",
              "       [5, 4, 8, 2, 7],\n",
              "       [3, 5, 3, 3, 1],\n",
              "       [2, 6, 5, 5, 1]])"
            ]
          },
          "metadata": {},
          "execution_count": 36
        }
      ]
    },
    {
      "cell_type": "code",
      "metadata": {
        "id": "_9jg1CuWQlfc",
        "outputId": "c8b665da-ba24-4c22-d98d-a02898d86978",
        "colab": {
          "base_uri": "https://localhost:8080/"
        }
      },
      "source": [
        "%%time\n",
        "# засечем время работы функции с NumPy\n",
        "np_diag_2k(a)"
      ],
      "execution_count": null,
      "outputs": [
        {
          "output_type": "stream",
          "name": "stdout",
          "text": [
            "CPU times: user 151 µs, sys: 0 ns, total: 151 µs\n",
            "Wall time: 159 µs\n"
          ]
        },
        {
          "output_type": "execute_result",
          "data": {
            "text/plain": [
              "16"
            ]
          },
          "metadata": {},
          "execution_count": 37
        }
      ]
    },
    {
      "cell_type": "markdown",
      "metadata": {
        "id": "D-N46M-tQlff"
      },
      "source": [
        "### Задание 4\n",
        "На вход дан двумерный массив $X$. Напишите функцию, которая для каждой строчки $x = (x_1, x_2, \\ldots, x_n)$ массива $X$  строит строчку $s = (s_1, s_2, \\ldots, s_n)$, где $s_k=\\frac{x_1+...+x_k}{k}$, а затем выдаёт массив из построенных строчек. Используйте библиотеку numpy (вам поможет функция cumsum). Выходом функции должен быть двумерный массив той же формы, что и $X$."
      ]
    },
    {
      "cell_type": "code",
      "metadata": {
        "id": "REgL39ksK7lr"
      },
      "source": [
        "def np_sec_av(*A):\n",
        "    #если выполняется условие, то массив двумерный\n",
        "    if np.array(A).ndim-1>1:\n",
        "        res = [[],[]]\n",
        "        for i in A:\n",
        "            row_cumsum = np.cumsum(i, axis=1)\n",
        "            for j in range(len(i)):\n",
        "                #print(j)\n",
        "                for k in range(len(i[j])):\n",
        "                    #проходимся по каждому элементу и делим его на КОЛИЧЕСТВО элементов, суммой которых он являтся\n",
        "                    r = row_cumsum[j][k] / (k+1)\n",
        "                    res[j].append(r)\n",
        "    else:\n",
        "        res = []\n",
        "        row_cumsum = np.cumsum(A)\n",
        "        for k in range(len(row_cumsum)):\n",
        "            r = row_cumsum[k]/(k+1)\n",
        "            res.append(r)\n",
        "\n",
        "    return res"
      ],
      "execution_count": 2,
      "outputs": []
    },
    {
      "cell_type": "code",
      "source": [
        "def check_dimension(arr):\n",
        "    # Проверяем является ли массив двумерным\n",
        "    if all(isinstance(sublist, list) for sublist in arr):\n",
        "        if all(len(sublist) == len(arr[0]) for sublist in arr):\n",
        "            return 2\n",
        "\n",
        "    # Проверяем является ли массив одномерным\n",
        "    if all(not isinstance(elem, list) for elem in arr):\n",
        "        return 1\n",
        "\n",
        "    return False\n",
        "\n",
        "def get_cumsum(arr, dim):\n",
        "    cumsum = []\n",
        "    cum_sum = 0\n",
        "    if dim == 2:\n",
        "        for row in arr:\n",
        "            cumsum_row = []\n",
        "            for num in row:\n",
        "                cum_sum += num\n",
        "                cumsum_row.append(cum_sum)\n",
        "            cumsum.append(cumsum_row)\n",
        "        return cumsum\n",
        "    else:\n",
        "        cumsum_row = []\n",
        "        for num in arr:\n",
        "            cum_sum += num\n",
        "            cumsum_row.append(cum_sum)\n",
        "        return cumsum_row\n",
        "\n",
        "#без numpy\n",
        "def sec_av(A):\n",
        "    if check_dimension(A) == 2:\n",
        "        res = [[],[]]\n",
        "        row_cumsum = get_cumsum(A, 2)\n",
        "        for j in range(len(A)):\n",
        "            for k in range(len(A[j])):\n",
        "                r = row_cumsum[j][k] / (k+1)\n",
        "                res[j].append(r)\n",
        "    elif check_dimension(A) == 1:\n",
        "        res = []\n",
        "        row_cumsum = get_cumsum(A, 1)\n",
        "        for k in range(len(row_cumsum)):\n",
        "            r = row_cumsum[k]/(k+1)\n",
        "            res.append(r)\n",
        "    return res\n"
      ],
      "metadata": {
        "id": "iI_oYsjKnl6T"
      },
      "execution_count": 5,
      "outputs": []
    },
    {
      "cell_type": "code",
      "metadata": {
        "id": "HcVN8MagK7lw",
        "colab": {
          "base_uri": "https://localhost:8080/"
        },
        "outputId": "d691a874-1d57-476f-c53e-c6fcff422fcf"
      },
      "source": [
        "# зададим некоторую последовательность и проверим ее на ваших функциях.\n",
        "# функция должна работать ~ в 50 раз быстрее, чем без Numpy\n",
        "A = sps.uniform.rvs(size=10**5)\n",
        "#print(A)\n",
        "\n",
        "%time S2 = np_sec_av(A)\n",
        "%time S3 = sec_av(A)"
      ],
      "execution_count": 37,
      "outputs": [
        {
          "output_type": "stream",
          "name": "stdout",
          "text": [
            "CPU times: user 290 ms, sys: 18.9 ms, total: 309 ms\n",
            "Wall time: 311 ms\n",
            "CPU times: user 727 ms, sys: 24.4 ms, total: 752 ms\n",
            "Wall time: 754 ms\n"
          ]
        }
      ]
    },
    {
      "cell_type": "markdown",
      "source": [
        "\n",
        "---\n",
        "Получилось, что функция без NumPy работает в среднем ***всего в 2-3 раза*** медленнее, чем с NumPy.\n",
        "\n",
        "\n",
        "---\n",
        "\n"
      ],
      "metadata": {
        "id": "LAL_i4xFwhra"
      }
    },
    {
      "cell_type": "markdown",
      "source": [
        ":A = sps.uniform.rvs(size=10**3) чем больше вводить size этой последовательности, тем ближе будут значения cumsum к 0.5. Например, при 10^7 значение в самом конце списка составило 0.4999...\n",
        "\n",
        "---\n",
        "\n"
      ],
      "metadata": {
        "id": "OZPG7hwYodeo"
      }
    },
    {
      "cell_type": "markdown",
      "source": [],
      "metadata": {
        "id": "Z6xr9-WQoWlV"
      }
    },
    {
      "cell_type": "markdown",
      "metadata": {
        "id": "2InIez3ZQlfw"
      },
      "source": [
        "### Задание 5\n",
        "Написать функцию для кодирование массива (Run-length encoding). Все подряд повторения элементов функция сжимает в один элемент и считает количество повторений. Функция возвращает кортеж из двух векторов одинаковой длины. Первый содержит элементы, а второй — сколько раз их нужно повторить.\n",
        "\n",
        "Пример: encode(np.array([1, 2, 2, 3, 3, 1, 1, 5, 5, 2, 3, 3])) = (np.array[1, 2, 3, 1, 5, 2, 3]), np.array[1, 2, 2, 2, 2, 1, 2])"
      ]
    },
    {
      "cell_type": "code",
      "metadata": {
        "id": "3G4DKWeoQlfx"
      },
      "source": [
        "# функция, решающая задачу с помощью NumPy\n",
        "def np_encode(seq_array):\n",
        "    elements = []\n",
        "    repeats = []\n",
        "    change = (seq_array[1:] != seq_array[:-1])\n",
        "    x = np.append(np.where(change), len(seq_array) - 1)\n",
        "    counter = np.diff(np.append(-1, x))\n",
        "    for i in range(0, len(counter)):\n",
        "        elements.append(seq_array[x][i])\n",
        "        repeats.append(counter[i])\n",
        "    return (elements, repeats)"
      ],
      "execution_count": 41,
      "outputs": []
    },
    {
      "cell_type": "code",
      "source": [
        "#функция решающая проблему без NumPy\n",
        "def encode(seq):\n",
        "  elements = []\n",
        "  repeats = []\n",
        "  count = 1\n",
        "  char = seq[0]\n",
        "  for i in range(1,len(seq)):\n",
        "    if seq[i] == char:\n",
        "        count = count + 1\n",
        "    else :\n",
        "        elements.append(char)\n",
        "        repeats.append(count)\n",
        "        char = seq[i]\n",
        "        count = 1\n",
        "  elements.append(char)\n",
        "  repeats.append(count)\n",
        "  return (elements,repeats)"
      ],
      "metadata": {
        "id": "4QZp_x6a3XaG"
      },
      "execution_count": 42,
      "outputs": []
    },
    {
      "cell_type": "code",
      "metadata": {
        "id": "zMaDQdNBQlf0",
        "colab": {
          "base_uri": "https://localhost:8080/"
        },
        "outputId": "a0bc899b-8268-45ec-c722-d413b0be743a"
      },
      "source": [
        "from itertools import groupby\n",
        "X = np.array([1, 2, 2, 3, 3, 1, 1, 5, 5, 2, 3, 3])\n",
        "%time x, num = np_encode(X)\n",
        "%time x, num = encode(X)"
      ],
      "execution_count": 54,
      "outputs": [
        {
          "output_type": "stream",
          "name": "stdout",
          "text": [
            "CPU times: user 860 µs, sys: 0 ns, total: 860 µs\n",
            "Wall time: 847 µs\n",
            "CPU times: user 23 µs, sys: 0 ns, total: 23 µs\n",
            "Wall time: 25.5 µs\n"
          ]
        }
      ]
    },
    {
      "cell_type": "markdown",
      "source": [
        "Огромный прирост в скорости у решения с NumPy - он в 10 и более раз быстрее решения без NumPy.\n",
        "\n",
        "---\n",
        "\n"
      ],
      "metadata": {
        "id": "lDSGC5Vr73F8"
      }
    },
    {
      "cell_type": "markdown",
      "metadata": {
        "id": "teVCPWZmK7l5"
      },
      "source": [
        "### Задание 6\n",
        "\n",
        "Пусть задан некоторый одномерный массив $X$. Надо построить новый массив, где все элементы с нечетными индексами требуется заменить на число $a$ (если оно не указано, то на 1). Все элементы с четными индексами нужно возвести в куб. Затем записать элементы в обратном порядке относительно их позиций. Массив $X$ при этом должен остаться *без изменений*. В конце требуется слить массив X с преобразованным X и вывести в обратном порядке.  \n",
        "\n",
        "Пример:  \n",
        "X = [100, 200, 300, 400, 500] -> [100, a, 300, a, 500] -> [500^3, a, 300^3, a, 100^3] -> склеиваем -> [100, 200, 300, 400, 500, 500^3, a, 300^3, a, 100^3]"
      ]
    },
    {
      "cell_type": "code",
      "metadata": {
        "id": "0hmcvfDVK7l-"
      },
      "source": [
        "# функция, решающая задачу с помощью NumPy\n",
        "from copy import copy\n",
        "\n",
        "def np_transformation(X, a=1):\n",
        "    \"\"\"\n",
        "    param X: array\n",
        "    \"\"\"\n",
        "    result = None\n",
        "    pass\n",
        "    return result"
      ],
      "execution_count": null,
      "outputs": []
    },
    {
      "cell_type": "code",
      "metadata": {
        "id": "r2-JLMhxK7mE",
        "scrolled": true
      },
      "source": [
        "X = np.array([i for i in range(1, 10, 2)])\n",
        "# функция должна работать ~ в 20 раз быстрее, чем без Numpy\n",
        "%time S2 = np_transformation(X, 5)"
      ],
      "execution_count": null,
      "outputs": []
    }
  ]
}